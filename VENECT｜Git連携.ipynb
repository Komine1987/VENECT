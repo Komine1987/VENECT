{
  "nbformat": 4,
  "nbformat_minor": 0,
  "metadata": {
    "colab": {
      "name": "VENECT｜Git連携.ipynb",
      "provenance": [],
      "collapsed_sections": [],
      "mount_file_id": "10RmdQKwg1PWEBSkPA69u8KGOJJz_1yBb",
      "authorship_tag": "ABX9TyM/rXqveUg1MFAJMpy4Nvl+",
      "include_colab_link": true
    },
    "kernelspec": {
      "name": "python3",
      "display_name": "Python 3"
    },
    "language_info": {
      "name": "python"
    }
  },
  "cells": [
    {
      "cell_type": "markdown",
      "metadata": {
        "id": "view-in-github",
        "colab_type": "text"
      },
      "source": [
        "<a href=\"https://colab.research.google.com/github/Komine1987/VENECT/blob/main/VENECT%EF%BD%9CGit%E9%80%A3%E6%90%BA.ipynb\" target=\"_parent\"><img src=\"https://colab.research.google.com/assets/colab-badge.svg\" alt=\"Open In Colab\"/></a>"
      ]
    },
    {
      "cell_type": "markdown",
      "source": [
        "# VENECT｜Git連携"
      ],
      "metadata": {
        "id": "SJqqBfrfcgCd"
      }
    },
    {
      "cell_type": "markdown",
      "source": [
        "本スクリプトはVENECTメンバーが、Collaboratory上でGitを利用し、  \n",
        "スクリプトのCommit, Push, Pullを実行するサンプルとして作成しています  \n",
        "また、Gitの処理先のフォルダはGoogle DriveのMy Drive上になります"
      ],
      "metadata": {
        "id": "Q_-R5xwxco-N"
      }
    },
    {
      "cell_type": "markdown",
      "source": [
        "本スクリプトでは、処理を行うフォルダは/content/drive/MyDrive/Gitを想定して作成します"
      ],
      "metadata": {
        "id": "oIRoKVqme4mU"
      }
    },
    {
      "cell_type": "markdown",
      "source": [
        "また、VENECT用のGitレポジトリはプライベートのため、アカウント認証が必要になります  \n",
        "その方法はSSH Keyを採用して手順を構築します  \n",
        "そのため、予めSSH Keyを作成しておいてください  "
      ],
      "metadata": {
        "id": "3R61AH6sx1J5"
      }
    },
    {
      "cell_type": "markdown",
      "source": [
        "# Google Driveにマウントする"
      ],
      "metadata": {
        "id": "MJwReyFIeWj6"
      }
    },
    {
      "cell_type": "code",
      "source": [
        "from google.colab import drive\n",
        "drive.mount('/content/drive', force_remount=True)"
      ],
      "metadata": {
        "colab": {
          "base_uri": "https://localhost:8080/"
        },
        "id": "-fbPVBBTeV-b",
        "outputId": "b2ea5938-e492-485f-dc6b-16c604d14e01"
      },
      "execution_count": 1,
      "outputs": [
        {
          "output_type": "stream",
          "name": "stdout",
          "text": [
            "Mounted at /content/drive\n"
          ]
        }
      ]
    },
    {
      "cell_type": "markdown",
      "source": [
        "## アカウント認証"
      ],
      "metadata": {
        "id": "0-Yqtn2Q0BMS"
      }
    },
    {
      "cell_type": "markdown",
      "source": [
        "### SSH Keyを生成する"
      ],
      "metadata": {
        "id": "5bxnkT2k2fvG"
      }
    },
    {
      "cell_type": "markdown",
      "source": [
        "**初回のみの実行で大丈夫です**"
      ],
      "metadata": {
        "id": "d64BkbdEEzgX"
      }
    },
    {
      "cell_type": "markdown",
      "source": [
        "PWは任意で大丈夫です、保存場所はデフォルトを利用します"
      ],
      "metadata": {
        "id": "KnW_kIJG4sxT"
      }
    },
    {
      "cell_type": "code",
      "source": [
        "!ssh-keygen -t rsa -b 4096 -C kazuki.komine@venect.jp -f drive/MyDrive/.ssh/id_rsa"
      ],
      "metadata": {
        "colab": {
          "base_uri": "https://localhost:8080/"
        },
        "id": "HMrvAof00GSb",
        "outputId": "4193dfdd-338f-4c7f-f574-6747799b128f"
      },
      "execution_count": 8,
      "outputs": [
        {
          "output_type": "stream",
          "name": "stdout",
          "text": [
            "Generating public/private rsa key pair.\n",
            "Enter passphrase (empty for no passphrase): \n",
            "Enter same passphrase again: \n",
            "Your identification has been saved in drive/MyDrive/.ssh/id_rsa.\n",
            "Your public key has been saved in drive/MyDrive/.ssh/id_rsa.pub.\n",
            "The key fingerprint is:\n",
            "SHA256:ENb6gguaYJl07JTA7tqo2genI7DdLPnB5Wy++5m/93o kazuki.komine@venect.jp\n",
            "The key's randomart image is:\n",
            "+---[RSA 4096]----+\n",
            "|.     o.         |\n",
            "| o   . ..        |\n",
            "|. o . ..         |\n",
            "| o =  ..         |\n",
            "|o *  ...S        |\n",
            "|o=ooo+. .        |\n",
            "|=B Oo.+.         |\n",
            "|B.B =+   o  . E  |\n",
            "|=..=. +++.oo.+.  |\n",
            "+----[SHA256]-----+\n"
          ]
        }
      ]
    },
    {
      "cell_type": "markdown",
      "source": [
        "#### SSH Keyの確認をする"
      ],
      "metadata": {
        "id": "eT-3x9ir4xpo"
      }
    },
    {
      "cell_type": "code",
      "source": [
        "!ls drive/MyDrive/.ssh/\n",
        "!ls drive/MyDrive/.ssh/id_rsa\n",
        "!ls drive/MyDrive/.ssh/id_rsa.pub"
      ],
      "metadata": {
        "colab": {
          "base_uri": "https://localhost:8080/"
        },
        "id": "PS_ZrVNH21ZG",
        "outputId": "cbaf7d47-f384-44bf-f1d6-9ef972fee472"
      },
      "execution_count": 9,
      "outputs": [
        {
          "output_type": "stream",
          "name": "stdout",
          "text": [
            "id_rsa\tid_rsa_github  id_rsa_github.pub  id_rsa.pub\n",
            "drive/MyDrive/.ssh/id_rsa\n",
            "drive/MyDrive/.ssh/id_rsa.pub\n"
          ]
        }
      ]
    },
    {
      "cell_type": "markdown",
      "source": [
        "### SSH Keyを表示する"
      ],
      "metadata": {
        "id": "QUT7mWz484cr"
      }
    },
    {
      "cell_type": "markdown",
      "source": [
        "下記の表示結果をコピー＆ペーストしてください"
      ],
      "metadata": {
        "id": "_rdRMenr9QXK"
      }
    },
    {
      "cell_type": "code",
      "source": [
        "!cat drive/MyDrive/.ssh/id_rsa.pub"
      ],
      "metadata": {
        "colab": {
          "base_uri": "https://localhost:8080/"
        },
        "id": "qqGZVYso87c6",
        "outputId": "ca404e57-9028-4f2f-e0b3-ef4c9c3291c0"
      },
      "execution_count": 10,
      "outputs": [
        {
          "output_type": "stream",
          "name": "stdout",
          "text": [
            "ssh-rsa AAAAB3NzaC1yc2EAAAADAQABAAACAQDAzkxMka4i46H+/eJ/wPBXdwXhg6AejIgfACtAchMYJevZd4rHOzzyAPSh4F87J1Os/ONL9q9oB8F0W4W8QfAe3Bq1myqOk+egamcw6ZZOJ3Hu353ht0k6Xye/taj64VPaIurlM2rf/bU+kcq+wm4rSrjoVks5l9k+A1QvGlULtMgoH0oOLj2Em3sMvhIUXoXx+8Xz/0WnIfe+9X1Ah0ZcsYq7vrMrQ00Crb8mMI64XfH7XIY0TpJJCYRot+Q1UQmUnTSttdhqkfJxZFXWb8tUZq5WlDQ6yp4XKgPvVyOOHnQRU7SpErYDcY0PNL02p0K3Msror+OJv49VXwjaXgBmKjJEFQUJnpUp19jnSeydzXqNW/kKZS/Gi7BrvZDfbVS1CBNRbLjF7Eh+szhBRuXdPzxBu2oXlu+Jd/jOmArYGALtXOGo6LaBYowKHVB6MAWvE8yZTfKetWfMus1OZ3ueaYrbrOEt81g3Fog7jAze+J7bwy+L9mvf8BQCr5BuRdbPE2SQ3/Iyntb05QsfQpNLL5qdfwbvngrBZ0mM2pESkgH3lU8vtTbC1UVztbzb2/K3sOiqKBGL1tVxkdb4mQK20e6Jx/KJRGHRDykUkVjHqOht3Kcj/sZRod0F8QzEUNR6I7eV4QNuNTfXrGu0NWRjDwmqD0jFd/kzp0/jUytPYQ== kazuki.komine@venect.jp\n"
          ]
        }
      ]
    },
    {
      "cell_type": "markdown",
      "source": [
        "### ユーザー情報を登録する"
      ],
      "metadata": {
        "id": "u_A9JSpt3LhX"
      }
    },
    {
      "cell_type": "markdown",
      "source": [
        "#### ユーザーネーム\n",
        "ユーザーネームは各自のものに変更してください"
      ],
      "metadata": {
        "id": "Z9mbfjUv3ejX"
      }
    },
    {
      "cell_type": "code",
      "source": [
        "!git config --global user.name Komine1987\n",
        "!git config user.name"
      ],
      "metadata": {
        "colab": {
          "base_uri": "https://localhost:8080/"
        },
        "id": "aTdk-2XK3SWb",
        "outputId": "aee28868-5bba-493f-8bb5-64de685e2a56"
      },
      "execution_count": 19,
      "outputs": [
        {
          "output_type": "stream",
          "name": "stdout",
          "text": [
            "Komine1987\n"
          ]
        }
      ]
    },
    {
      "cell_type": "markdown",
      "source": [
        "#### メールアドレス\n",
        "メールアドレスは各自のものに変更してください"
      ],
      "metadata": {
        "id": "NX6tgxHh3l_A"
      }
    },
    {
      "cell_type": "code",
      "source": [
        "!git config --global user.email kazuki.komine@venect.jp\n",
        "!git config user.email"
      ],
      "metadata": {
        "colab": {
          "base_uri": "https://localhost:8080/"
        },
        "id": "EKX3GD9_3uNb",
        "outputId": "16c01987-0942-4a51-ea4b-e745e9bd4620"
      },
      "execution_count": 12,
      "outputs": [
        {
          "output_type": "stream",
          "name": "stdout",
          "text": [
            "kazuki.komine@venect.jp\n"
          ]
        }
      ]
    },
    {
      "cell_type": "markdown",
      "source": [
        "### 認証を行う"
      ],
      "metadata": {
        "id": "yJxhFAxY_5xc"
      }
    },
    {
      "cell_type": "markdown",
      "source": [
        "#### root直下にコピーを作成する"
      ],
      "metadata": {
        "id": "3OuI86uPDgoX"
      }
    },
    {
      "cell_type": "code",
      "source": [
        "!cp drive/MyDrive/.ssh/id_rsa /root/.ssh/id_rsa\n",
        "!cp drive/MyDrive/.ssh/id_rsa.pub /root/.ssh/id_rsa.pub"
      ],
      "metadata": {
        "id": "W5sznprODnqH"
      },
      "execution_count": 15,
      "outputs": []
    },
    {
      "cell_type": "markdown",
      "source": [
        "### 認証を実行する\n",
        "下記のメッセージが表示されればOKである  \n",
        "You've successfully authenticated, but GitHub does not provide shell access."
      ],
      "metadata": {
        "id": "JZVspNZQCSb2"
      }
    },
    {
      "cell_type": "code",
      "source": [
        "!ssh-keyscan github.com >> /root/.ssh/known_hosts\n",
        "!chmod 644 /root/.ssh/known_hosts\n",
        "\n",
        "!chmod 600 /root/.ssh/id_rsa\n",
        "!ssh -T git@github.com"
      ],
      "metadata": {
        "colab": {
          "base_uri": "https://localhost:8080/"
        },
        "id": "yzv6keE43WWP",
        "outputId": "35945581-5dfe-4e4a-cec0-9ad830ac4784"
      },
      "execution_count": 20,
      "outputs": [
        {
          "output_type": "stream",
          "name": "stdout",
          "text": [
            "# github.com:22 SSH-2.0-babeld-7f91b4d6\n",
            "# github.com:22 SSH-2.0-babeld-7f91b4d6\n",
            "# github.com:22 SSH-2.0-babeld-7f91b4d6\n",
            "Warning: Permanently added the ECDSA host key for IP address '140.82.113.4' to the list of known hosts.\n",
            "Hi Komine1987! You've successfully authenticated, but GitHub does not provide shell access.\n"
          ]
        }
      ]
    },
    {
      "cell_type": "markdown",
      "source": [
        "## Clone"
      ],
      "metadata": {
        "id": "IW92dAdef70l"
      }
    },
    {
      "cell_type": "markdown",
      "source": [
        "### Curent Directoryを指定する"
      ],
      "metadata": {
        "id": "_bSdIGlOJ9ht"
      }
    },
    {
      "cell_type": "code",
      "source": [
        "%cd /content/drive/MyDrive/Git\n",
        "!ls /content/drive/MyDrive/Git/brand_survey"
      ],
      "metadata": {
        "colab": {
          "base_uri": "https://localhost:8080/"
        },
        "id": "WSzkpTTfKCGz",
        "outputId": "38a92a5a-d1da-4e21-b568-01526d235733"
      },
      "execution_count": 26,
      "outputs": [
        {
          "output_type": "stream",
          "name": "stdout",
          "text": [
            "/content/drive/MyDrive/Git\n",
            "application.py\t rails-auto-report-auth.json  static\n",
            "ARCHITECTURE.md  README.md\t\t      templates\n",
            "__pycache__\t requirements.txt\t      upload_folder\n"
          ]
        }
      ]
    },
    {
      "cell_type": "markdown",
      "source": [
        "### Cloneを行う"
      ],
      "metadata": {
        "id": "dQBorrFFKIMs"
      }
    },
    {
      "cell_type": "code",
      "execution_count": 27,
      "metadata": {
        "colab": {
          "base_uri": "https://localhost:8080/"
        },
        "id": "oXrR0DF6cd87",
        "outputId": "482546a6-ea4c-4ca6-b0a7-e7a391540df3"
      },
      "outputs": [
        {
          "output_type": "stream",
          "name": "stdout",
          "text": [
            "Cloning into 'brand_survey_main_and_screening'...\n",
            "Warning: Permanently added the ECDSA host key for IP address '140.82.114.3' to the list of known hosts.\n",
            "remote: Enumerating objects: 311, done.\u001b[K\n",
            "remote: Counting objects: 100% (31/31), done.\u001b[K\n",
            "remote: Compressing objects: 100% (14/14), done.\u001b[K\n",
            "remote: Total 311 (delta 16), reused 23 (delta 11), pack-reused 280\u001b[K\n",
            "Receiving objects: 100% (311/311), 49.09 KiB | 897.00 KiB/s, done.\n",
            "Resolving deltas: 100% (73/73), done.\n"
          ]
        }
      ],
      "source": [
        "!git clone git@github.com:venect/brand_survey_main_and_screening.git"
      ]
    },
    {
      "cell_type": "code",
      "source": [
        ""
      ],
      "metadata": {
        "id": "qaT7jE4HgD13"
      },
      "execution_count": 7,
      "outputs": []
    }
  ]
}